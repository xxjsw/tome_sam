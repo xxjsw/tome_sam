{
 "cells": [
  {
   "cell_type": "code",
   "id": "initial_id",
   "metadata": {
    "collapsed": true,
    "ExecuteTime": {
     "end_time": "2024-12-04T13:28:42.467701Z",
     "start_time": "2024-12-04T13:28:40.792013Z"
    }
   },
   "source": [
    "import os\n",
    "os.environ['PYTORCH_ENABLE_MPS_FALLBACK'] = '1'\n",
    "# change working directory otherwise accessing data folder fails\n",
    "os.chdir('..')\n",
    "from evaluate import EvaluateArgs, evaluate\n",
    "from tome_sam.utils.tome_presets import SAMToMeSetting, BSMToMe, ToMeConfig, PiToMe\n",
    "from flops import get_flops\n",
    "\n",
    "# Utilities for visualizing the results"
   ],
   "outputs": [
    {
     "name": "stderr",
     "output_type": "stream",
     "text": [
      "/Users/siwei/miniforge3/envs/tome_sam/lib/python3.10/site-packages/torchvision/io/image.py:14: UserWarning: Failed to load image Python extension: 'dlopen(/Users/siwei/miniforge3/envs/tome_sam/lib/python3.10/site-packages/torchvision/image.so, 0x0006): Library not loaded: @rpath/libjpeg.9.dylib\n",
      "  Referenced from: <0B7EB158-53DC-3403-8A49-22178CAB4612> /Users/siwei/miniforge3/envs/tome_sam/lib/python3.10/site-packages/torchvision/image.so\n",
      "  Reason: tried: '/Users/siwei/miniforge3/envs/tome_sam/lib/python3.10/site-packages/torchvision/../../../libjpeg.9.dylib' (no such file), '/Users/siwei/miniforge3/envs/tome_sam/lib/python3.10/site-packages/torchvision/../../../libjpeg.9.dylib' (no such file), '/Users/siwei/miniforge3/envs/tome_sam/lib/python3.10/lib-dynload/../../libjpeg.9.dylib' (no such file), '/Users/siwei/miniforge3/envs/tome_sam/bin/../lib/libjpeg.9.dylib' (no such file)'If you don't plan on using image functionality from `torchvision.io`, you can ignore this warning. Otherwise, there might be something wrong with your environment. Did you have `libjpeg` or `libpng` installed before building `torchvision` from source?\n",
      "  warn(\n"
     ]
    }
   ],
   "execution_count": 1
  },
  {
   "metadata": {},
   "cell_type": "markdown",
   "source": "Pure SAM",
   "id": "bc265521f7355acb"
  },
  {
   "metadata": {
    "ExecuteTime": {
     "end_time": "2024-12-04T13:36:03.192872Z",
     "start_time": "2024-12-04T13:28:45.457185Z"
    }
   },
   "cell_type": "code",
   "source": [
    "evaluate_args = EvaluateArgs(\n",
    "    dataset=\"dis\",\n",
    "    output=\"\",\n",
    "    model_type=\"vit_b\",\n",
    "    checkpoint=\"checkpoints/sam_vit_b_01ec64.pth\",\n",
    "    device=\"mps\",\n",
    "    seed=0,\n",
    "    input_size=[1024, 1024],\n",
    "    batch_size=1,\n",
    "    multiple_masks=False,\n",
    "    tome_setting = None,\n",
    ")\n",
    "\n",
    "iou_results = evaluate(evaluate_args)\n",
    "print(iou_results)"
   ],
   "id": "1ae23339188b98a9",
   "outputs": [
    {
     "name": "stdout",
     "output_type": "stream",
     "text": [
      "--- Create valid dataloader with dataset dis ---\n",
      "------------------------------ valid --------------------------------\n",
      "--->>> dataset:  DIS5K-VD <<<---\n",
      "-im- DIS5K-VD ./data/DIS5K/DIS-VD/im :  470\n",
      "-gt- DIS5K-VD ./data/DIS5K/DIS-VD/gt :  470\n",
      "--- Valid dataloader with dataset dis created ---\n",
      "--- Create SAM vit_b with token merging in layers None ---\n"
     ]
    },
    {
     "name": "stderr",
     "output_type": "stream",
     "text": [
      "/Users/siwei/Desktop/tome_sam/tome_sam/build_tome_sam.py:118: FutureWarning: You are using `torch.load` with `weights_only=False` (the current default value), which uses the default pickle module implicitly. It is possible to construct malicious pickle data which will execute arbitrary code during unpickling (See https://github.com/pytorch/pytorch/blob/main/SECURITY.md#untrusted-models for more details). In a future release, the default value for `weights_only` will be flipped to `True`. This limits the functions that could be executed during unpickling. Arbitrary objects will no longer be allowed to be loaded via this mode unless they are explicitly allowlisted by the user via `torch.serialization.add_safe_globals`. We recommend you start setting `weights_only=True` for any use case where you don't have full control of the loaded file. Please open an issue on GitHub for any issues related to this experimental feature.\n",
      "  state_dict = torch.load(f)\n"
     ]
    },
    {
     "name": "stdout",
     "output_type": "stream",
     "text": [
      "--- Start evaluation ---\n",
      "valid dataloader length: 470\n"
     ]
    },
    {
     "name": "stderr",
     "output_type": "stream",
     "text": [
      "/Users/siwei/miniforge3/envs/tome_sam/lib/python3.10/site-packages/torch/functional.py:534: UserWarning: torch.meshgrid: in an upcoming release, it will be required to pass the indexing argument. (Triggered internally at /Users/runner/work/_temp/anaconda/conda-bld/pytorch_1729647065806/work/aten/src/ATen/native/TensorShape.cpp:3596.)\n",
      "  return _VF.meshgrid(tensors, **kwargs)  # type: ignore[attr-defined]\n"
     ]
    },
    {
     "name": "stdout",
     "output_type": "stream",
     "text": [
      "  [  0/470]  eta: 0:10:01  mask_iou: 0.7190 (0.7190)  boundary_iou: 0.4607 (0.4607)  time: 1.2808  data: 0.0673\n",
      "  [200/470]  eta: 0:04:05  mask_iou: 0.5820 (0.5353)  boundary_iou: 0.5071 (0.4591)  time: 0.8618  data: 0.0721\n",
      "  [400/470]  eta: 0:01:05  mask_iou: 0.6821 (0.5435)  boundary_iou: 0.4338 (0.4620)  time: 0.9277  data: 0.0882\n",
      "  [469/470]  eta: 0:00:00  mask_iou: 0.5600 (0.5415)  boundary_iou: 0.4693 (0.4611)  time: 0.7926  data: 0.0568\n",
      " Total time: 0:07:16 (0.9296 s / it)\n",
      "============================\n",
      "Averaged stats: mask_iou: 0.5600 (0.5415)  boundary_iou: 0.4693 (0.4611)\n",
      "{'mask_iou': 0.5414679513996238, 'boundary_iou': 0.46114134099164045}\n"
     ]
    }
   ],
   "execution_count": 2
  },
  {
   "metadata": {
    "ExecuteTime": {
     "end_time": "2024-11-28T13:09:28.923786Z",
     "start_time": "2024-11-28T12:43:51.929199Z"
    }
   },
   "cell_type": "code",
   "source": [
    "evaluate_args = EvaluateArgs(\n",
    "    dataset=\"dis\",\n",
    "    output=\"\",\n",
    "    model_type=\"vit_b\",\n",
    "    checkpoint=\"checkpoints/sam_vit_b_01ec64.pth\",\n",
    "    device=\"cpu\",\n",
    "    seed=0,\n",
    "    input_size=[1024, 1024],\n",
    "    batch_size=1,\n",
    "    multiple_masks=False,\n",
    "    tome_setting = None,\n",
    ")\n",
    "\n",
    "flops_per_image = get_flops(evaluate_args)\n",
    "print(f'flops per image: {flops_per_image}')"
   ],
   "id": "3f5a7ff068dba1c4",
   "outputs": [
    {
     "name": "stdout",
     "output_type": "stream",
     "text": [
      "--- Create valid dataloader with dataset dis ---\n",
      "------------------------------ valid --------------------------------\n",
      "--->>> dataset:  DIS5K-VD <<<---\n",
      "-im- DIS5K-VD ./data/DIS5K/DIS-VD/im :  470\n",
      "-gt- DIS5K-VD ./data/DIS5K/DIS-VD/gt :  470\n",
      "--- Valid dataloader with dataset dis created ---\n",
      "--- Create SAM vit_b with token merging in layers None ---\n",
      "--- Start flop count analysis ---\n"
     ]
    },
    {
     "name": "stderr",
     "output_type": "stream",
     "text": [
      "                                                 "
     ]
    },
    {
     "name": "stdout",
     "output_type": "stream",
     "text": [
      "flops per image: 488.2478736639998\n"
     ]
    },
    {
     "name": "stderr",
     "output_type": "stream",
     "text": [
      "\r"
     ]
    }
   ],
   "execution_count": 4
  },
  {
   "metadata": {},
   "cell_type": "markdown",
   "source": "ToMe",
   "id": "c10dbbf20b8a4e08"
  },
  {
   "metadata": {
    "ExecuteTime": {
     "end_time": "2024-11-28T13:26:41.401956Z",
     "start_time": "2024-11-28T13:19:19.589958Z"
    }
   },
   "cell_type": "code",
   "source": [
    "test_bsm_setting: SAMToMeSetting = {\n",
    "    2: ViTToMeConfig(\n",
    "        kv=ToMeConfig(\n",
    "            mode='bsm',\n",
    "            params=BSMToMe(r=0.6, sx=2, sy=2)\n",
    "        ),\n",
    "        q=ToMeConfig(\n",
    "            mode='bsm',\n",
    "            params=BSMToMe(r=0.6, sx=2, sy=2)\n",
    "        )\n",
    "    ),\n",
    "    5: ViTToMeConfig(\n",
    "        kv=ToMeConfig(\n",
    "            mode='bsm',\n",
    "            params=BSMToMe(r=0.6, sx=2, sy=2)\n",
    "        ),\n",
    "        q=ToMeConfig(\n",
    "            mode='bsm',\n",
    "            params=BSMToMe(r=0.6, sx=2, sy=2)\n",
    "        )\n",
    "    ),\n",
    "    8: ViTToMeConfig(\n",
    "        kv=ToMeConfig(\n",
    "            mode='bsm',\n",
    "            params=BSMToMe(r=0.6, sx=2, sy=2)\n",
    "        ),\n",
    "        q=ToMeConfig(\n",
    "            mode='bsm',\n",
    "            params=BSMToMe(r=0.6, sx=2, sy=2)\n",
    "        )\n",
    "    ),\n",
    "    11: ViTToMeConfig(\n",
    "        kv=ToMeConfig(\n",
    "            mode='bsm',\n",
    "            params=BSMToMe(r=0.6, sx=2, sy=2)\n",
    "        ),\n",
    "        q=ToMeConfig(\n",
    "            mode='bsm',\n",
    "            params=BSMToMe(r=0.6, sx=2, sy=2)\n",
    "        )\n",
    "    ),\n",
    "}\n",
    "evaluate_args = EvaluateArgs(\n",
    "    dataset=\"dis\",\n",
    "    output=\"\",\n",
    "    model_type=\"vit_b\",\n",
    "    checkpoint=\"checkpoints/sam_vit_b_01ec64.pth\",\n",
    "    device=\"mps\",\n",
    "    seed=0,\n",
    "    input_size=[1024, 1024],\n",
    "    batch_size=1,\n",
    "    multiple_masks=False,\n",
    "    tome_setting = test_bsm_setting,\n",
    ")\n",
    "\n",
    "iou_results = evaluate(evaluate_args)\n",
    "print(iou_results)\n"
   ],
   "id": "e1d40bc9cfae70d2",
   "outputs": [
    {
     "name": "stdout",
     "output_type": "stream",
     "text": [
      "--- Create valid dataloader with dataset dis ---\n",
      "------------------------------ valid --------------------------------\n",
      "--->>> dataset:  DIS5K-VD <<<---\n",
      "-im- DIS5K-VD ./data/DIS5K/DIS-VD/im :  470\n",
      "-gt- DIS5K-VD ./data/DIS5K/DIS-VD/gt :  470\n",
      "--- Valid dataloader with dataset dis created ---\n",
      "--- Create SAM vit_b with token merging in layers {2: ViTToMeConfig(kv=ToMeConfig(mode='bsm', params=BSMToMe(r=0.6, sx=2, sy=2)), q=ToMeConfig(mode='bsm', params=BSMToMe(r=0.6, sx=2, sy=2))), 5: ViTToMeConfig(kv=ToMeConfig(mode='bsm', params=BSMToMe(r=0.6, sx=2, sy=2)), q=ToMeConfig(mode='bsm', params=BSMToMe(r=0.6, sx=2, sy=2))), 8: ViTToMeConfig(kv=ToMeConfig(mode='bsm', params=BSMToMe(r=0.6, sx=2, sy=2)), q=ToMeConfig(mode='bsm', params=BSMToMe(r=0.6, sx=2, sy=2))), 11: ViTToMeConfig(kv=ToMeConfig(mode='bsm', params=BSMToMe(r=0.6, sx=2, sy=2)), q=ToMeConfig(mode='bsm', params=BSMToMe(r=0.6, sx=2, sy=2)))} ---\n"
     ]
    },
    {
     "name": "stderr",
     "output_type": "stream",
     "text": [
      "/Users/siwei/Desktop/tome_sam/tome_sam/build_tome_sam.py:118: FutureWarning: You are using `torch.load` with `weights_only=False` (the current default value), which uses the default pickle module implicitly. It is possible to construct malicious pickle data which will execute arbitrary code during unpickling (See https://github.com/pytorch/pytorch/blob/main/SECURITY.md#untrusted-models for more details). In a future release, the default value for `weights_only` will be flipped to `True`. This limits the functions that could be executed during unpickling. Arbitrary objects will no longer be allowed to be loaded via this mode unless they are explicitly allowlisted by the user via `torch.serialization.add_safe_globals`. We recommend you start setting `weights_only=True` for any use case where you don't have full control of the loaded file. Please open an issue on GitHub for any issues related to this experimental feature.\n",
      "  state_dict = torch.load(f)\n"
     ]
    },
    {
     "name": "stdout",
     "output_type": "stream",
     "text": [
      "--- Start evaluation ---\n",
      "valid dataloader length: 470\n"
     ]
    },
    {
     "name": "stderr",
     "output_type": "stream",
     "text": [
      "/Users/siwei/miniforge3/envs/tome_sam/lib/python3.10/site-packages/torch/functional.py:534: UserWarning: torch.meshgrid: in an upcoming release, it will be required to pass the indexing argument. (Triggered internally at /Users/runner/work/_temp/anaconda/conda-bld/pytorch_1729647065806/work/aten/src/ATen/native/TensorShape.cpp:3596.)\n",
      "  return _VF.meshgrid(tensors, **kwargs)  # type: ignore[attr-defined]\n",
      "/Users/siwei/Desktop/tome_sam/tome_sam/tome_algo/tome/merge.py:126: UserWarning: The operator 'aten::scatter_reduce.two_out' is not currently supported on the MPS backend and will fall back to run on the CPU. This may have performance implications. (Triggered internally at /Users/runner/work/_temp/anaconda/conda-bld/pytorch_1729647065806/work/aten/src/ATen/mps/MPSFallback.mm:13.)\n",
      "  dst = dst.scatter_reduce(-2, dst_idx.expand(n, r, c), src, reduce=mode)\n"
     ]
    },
    {
     "name": "stdout",
     "output_type": "stream",
     "text": [
      "  [  0/470]  eta: 0:10:11  mask_iou: 0.8027 (0.8027)  boundary_iou: 0.6548 (0.6548)  time: 1.3019  data: 0.0633\n",
      "  [200/470]  eta: 0:04:07  mask_iou: 0.5901 (0.4792)  boundary_iou: 0.4899 (0.4082)  time: 0.8640  data: 0.0675\n",
      "  [400/470]  eta: 0:01:05  mask_iou: 0.4806 (0.4933)  boundary_iou: 0.4445 (0.4147)  time: 0.9404  data: 0.0900\n",
      "  [469/470]  eta: 0:00:00  mask_iou: 0.5428 (0.4907)  boundary_iou: 0.4032 (0.4133)  time: 0.8061  data: 0.0553\n",
      " Total time: 0:07:21 (0.9383 s / it)\n",
      "============================\n",
      "Averaged stats: mask_iou: 0.5428 (0.4907)  boundary_iou: 0.4032 (0.4133)\n",
      "{'mask_iou': 0.4906588361156814, 'boundary_iou': 0.4133173046541157}\n"
     ]
    }
   ],
   "execution_count": 2
  },
  {
   "metadata": {
    "ExecuteTime": {
     "end_time": "2024-11-28T13:45:13.360006Z",
     "start_time": "2024-11-28T13:27:32.642470Z"
    }
   },
   "cell_type": "code",
   "source": [
    "evaluate_args = EvaluateArgs(\n",
    "    dataset=\"dis\",\n",
    "    output=\"\",\n",
    "    model_type=\"vit_b\",\n",
    "    checkpoint=\"checkpoints/sam_vit_b_01ec64.pth\",\n",
    "    device=\"cpu\",\n",
    "    seed=0,\n",
    "    input_size=[1024, 1024],\n",
    "    batch_size=1,\n",
    "    multiple_masks=False,\n",
    "    tome_setting = test_bsm_setting,\n",
    ")\n",
    "\n",
    "flops_per_image = get_flops(evaluate_args)\n",
    "print(f'flops per image: {flops_per_image}')"
   ],
   "id": "3c80b34c16a9484c",
   "outputs": [
    {
     "name": "stdout",
     "output_type": "stream",
     "text": [
      "--- Create valid dataloader with dataset dis ---\n",
      "------------------------------ valid --------------------------------\n",
      "--->>> dataset:  DIS5K-VD <<<---\n",
      "-im- DIS5K-VD ./data/DIS5K/DIS-VD/im :  470\n",
      "-gt- DIS5K-VD ./data/DIS5K/DIS-VD/gt :  470\n",
      "--- Valid dataloader with dataset dis created ---\n",
      "--- Create SAM vit_b with token merging in layers {2: ViTToMeConfig(kv=ToMeConfig(mode='bsm', params=BSMToMe(r=0.6, sx=2, sy=2)), q=ToMeConfig(mode='bsm', params=BSMToMe(r=0.6, sx=2, sy=2))), 5: ViTToMeConfig(kv=ToMeConfig(mode='bsm', params=BSMToMe(r=0.6, sx=2, sy=2)), q=ToMeConfig(mode='bsm', params=BSMToMe(r=0.6, sx=2, sy=2))), 8: ViTToMeConfig(kv=ToMeConfig(mode='bsm', params=BSMToMe(r=0.6, sx=2, sy=2)), q=ToMeConfig(mode='bsm', params=BSMToMe(r=0.6, sx=2, sy=2))), 11: ViTToMeConfig(kv=ToMeConfig(mode='bsm', params=BSMToMe(r=0.6, sx=2, sy=2)), q=ToMeConfig(mode='bsm', params=BSMToMe(r=0.6, sx=2, sy=2)))} ---\n",
      "--- Start flop count analysis ---\n"
     ]
    },
    {
     "name": "stderr",
     "output_type": "stream",
     "text": [
      "                                                 "
     ]
    },
    {
     "name": "stdout",
     "output_type": "stream",
     "text": [
      "flops per image: 413.6002552319999\n"
     ]
    },
    {
     "name": "stderr",
     "output_type": "stream",
     "text": [
      "\r"
     ]
    }
   ],
   "execution_count": 3
  },
  {
   "metadata": {},
   "cell_type": "markdown",
   "source": "PiToMe",
   "id": "4ec087fb2d5a10b5"
  },
  {
   "metadata": {
    "ExecuteTime": {
     "end_time": "2024-11-28T14:05:11.798666Z",
     "start_time": "2024-11-28T13:52:24.357617Z"
    }
   },
   "cell_type": "code",
   "source": [
    "test_pitome_setting = SAMToMeSetting = {\n",
    "    2: ViTToMeConfig(\n",
    "        kv=ToMeConfig(\n",
    "            mode='pitome',\n",
    "            params=PiToMe(r=0.5, margin=0.5, alpha=1.0)\n",
    "        ),\n",
    "        q=ToMeConfig(\n",
    "            mode='pitome',\n",
    "            params=PiToMe(r=0.5, margin=0.5, alpha=1.0)\n",
    "        )\n",
    "    ),\n",
    "    5: ViTToMeConfig(\n",
    "        kv=ToMeConfig(\n",
    "            mode='pitome',\n",
    "            params=PiToMe(r=0.5, margin=0.5, alpha=1.0)\n",
    "        ),\n",
    "        q=ToMeConfig(\n",
    "            mode='pitome',\n",
    "            params=PiToMe(r=0.5, margin=0.5, alpha=1.0)\n",
    "        )\n",
    "    ),\n",
    "    8: ViTToMeConfig(\n",
    "        kv=ToMeConfig(\n",
    "            mode='pitome',\n",
    "            params=PiToMe(r=0.5, margin=0.5, alpha=1.0)\n",
    "        ),\n",
    "        q=ToMeConfig(\n",
    "            mode='pitome',\n",
    "            params=PiToMe(r=0.5, margin=0.5, alpha=1.0)\n",
    "        )\n",
    "    ),\n",
    "    11: ViTToMeConfig(\n",
    "        kv=ToMeConfig(\n",
    "            mode='pitome',\n",
    "            params=PiToMe(r=0.5, margin=0.5, alpha=1.0)\n",
    "        ),\n",
    "        q=ToMeConfig(\n",
    "            mode='pitome',\n",
    "            params=PiToMe(r=0.5, margin=0.5, alpha=1.0)\n",
    "        )\n",
    "    ),\n",
    "}\n",
    "\n",
    "evaluate_args = EvaluateArgs(\n",
    "    dataset=\"dis\",\n",
    "    output=\"\",\n",
    "    model_type=\"vit_b\",\n",
    "    checkpoint=\"checkpoints/sam_vit_b_01ec64.pth\",\n",
    "    device=\"mps\",\n",
    "    seed=0,\n",
    "    input_size=[1024, 1024],\n",
    "    batch_size=1,\n",
    "    multiple_masks=False,\n",
    "    tome_setting = test_pitome_setting,\n",
    ")\n",
    "\n",
    "iou_results = evaluate(evaluate_args)\n",
    "print(iou_results)"
   ],
   "id": "42465f11d3962b37",
   "outputs": [
    {
     "name": "stdout",
     "output_type": "stream",
     "text": [
      "--- Create valid dataloader with dataset dis ---\n",
      "------------------------------ valid --------------------------------\n",
      "--->>> dataset:  DIS5K-VD <<<---\n",
      "-im- DIS5K-VD ./data/DIS5K/DIS-VD/im :  470\n",
      "-gt- DIS5K-VD ./data/DIS5K/DIS-VD/gt :  470\n",
      "--- Valid dataloader with dataset dis created ---\n",
      "--- Create SAM vit_b with token merging in layers {2: ViTToMeConfig(kv=ToMeConfig(mode='pitome', params=PiToMe(r=0.5, margin=0.5, alpha=1.0)), q=ToMeConfig(mode='pitome', params=PiToMe(r=0.5, margin=0.5, alpha=1.0))), 5: ViTToMeConfig(kv=ToMeConfig(mode='pitome', params=PiToMe(r=0.5, margin=0.5, alpha=1.0)), q=ToMeConfig(mode='pitome', params=PiToMe(r=0.5, margin=0.5, alpha=1.0))), 8: ViTToMeConfig(kv=ToMeConfig(mode='pitome', params=PiToMe(r=0.5, margin=0.5, alpha=1.0)), q=ToMeConfig(mode='pitome', params=PiToMe(r=0.5, margin=0.5, alpha=1.0))), 11: ViTToMeConfig(kv=ToMeConfig(mode='pitome', params=PiToMe(r=0.5, margin=0.5, alpha=1.0)), q=ToMeConfig(mode='pitome', params=PiToMe(r=0.5, margin=0.5, alpha=1.0)))} ---\n",
      "--- Start evaluation ---\n",
      "valid dataloader length: 470\n",
      "  [  0/470]  eta: 0:54:55  mask_iou: 0.7769 (0.7769)  boundary_iou: 0.5245 (0.5245)  time: 7.0121  data: 0.0705\n",
      "  [200/470]  eta: 0:07:15  mask_iou: 0.5799 (0.4716)  boundary_iou: 0.4519 (0.4031)  time: 1.5698  data: 0.0841\n",
      "  [400/470]  eta: 0:01:53  mask_iou: 0.4846 (0.4808)  boundary_iou: 0.4436 (0.4090)  time: 1.5915  data: 0.0966\n",
      "  [469/470]  eta: 0:00:01  mask_iou: 0.6108 (0.4786)  boundary_iou: 0.3900 (0.4077)  time: 1.4370  data: 0.0593\n",
      " Total time: 0:12:42 (1.6217 s / it)\n",
      "============================\n",
      "Averaged stats: mask_iou: 0.6108 (0.4786)  boundary_iou: 0.3900 (0.4077)\n",
      "{'mask_iou': 0.4785963713719779, 'boundary_iou': 0.40770558740144397}\n"
     ]
    }
   ],
   "execution_count": 6
  },
  {
   "metadata": {
    "ExecuteTime": {
     "end_time": "2024-11-29T10:34:37.210605Z",
     "start_time": "2024-11-29T10:34:37.046204Z"
    }
   },
   "cell_type": "code",
   "source": [
    "evaluate_args = EvaluateArgs(\n",
    "    dataset=\"dis\",\n",
    "    output=\"\",\n",
    "    model_type=\"vit_b\",\n",
    "    checkpoint=\"checkpoints/sam_vit_b_01ec64.pth\",\n",
    "    device=\"cpu\",\n",
    "    seed=0,\n",
    "    input_size=[1024, 1024],\n",
    "    batch_size=1,\n",
    "    multiple_masks=False,\n",
    "    tome_setting = test_pitome_setting,\n",
    ")\n",
    "flops_per_image = get_flops(evaluate_args)\n",
    "print(f'flops per image: {flops_per_image}')"
   ],
   "id": "5e87a31570a07d1f",
   "outputs": [
    {
     "ename": "NameError",
     "evalue": "name 'test_pitome_setting' is not defined",
     "output_type": "error",
     "traceback": [
      "\u001B[0;31m---------------------------------------------------------------------------\u001B[0m",
      "\u001B[0;31mNameError\u001B[0m                                 Traceback (most recent call last)",
      "Cell \u001B[0;32mIn[2], line 11\u001B[0m\n\u001B[1;32m      1\u001B[0m evaluate_args \u001B[38;5;241m=\u001B[39m EvaluateArgs(\n\u001B[1;32m      2\u001B[0m     dataset\u001B[38;5;241m=\u001B[39m\u001B[38;5;124m\"\u001B[39m\u001B[38;5;124mdis\u001B[39m\u001B[38;5;124m\"\u001B[39m,\n\u001B[1;32m      3\u001B[0m     output\u001B[38;5;241m=\u001B[39m\u001B[38;5;124m\"\u001B[39m\u001B[38;5;124m\"\u001B[39m,\n\u001B[1;32m      4\u001B[0m     model_type\u001B[38;5;241m=\u001B[39m\u001B[38;5;124m\"\u001B[39m\u001B[38;5;124mvit_b\u001B[39m\u001B[38;5;124m\"\u001B[39m,\n\u001B[1;32m      5\u001B[0m     checkpoint\u001B[38;5;241m=\u001B[39m\u001B[38;5;124m\"\u001B[39m\u001B[38;5;124mcheckpoints/sam_vit_b_01ec64.pth\u001B[39m\u001B[38;5;124m\"\u001B[39m,\n\u001B[1;32m      6\u001B[0m     device\u001B[38;5;241m=\u001B[39m\u001B[38;5;124m\"\u001B[39m\u001B[38;5;124mcpu\u001B[39m\u001B[38;5;124m\"\u001B[39m,\n\u001B[1;32m      7\u001B[0m     seed\u001B[38;5;241m=\u001B[39m\u001B[38;5;241m0\u001B[39m,\n\u001B[1;32m      8\u001B[0m     input_size\u001B[38;5;241m=\u001B[39m[\u001B[38;5;241m1024\u001B[39m, \u001B[38;5;241m1024\u001B[39m],\n\u001B[1;32m      9\u001B[0m     batch_size\u001B[38;5;241m=\u001B[39m\u001B[38;5;241m1\u001B[39m,\n\u001B[1;32m     10\u001B[0m     multiple_masks\u001B[38;5;241m=\u001B[39m\u001B[38;5;28;01mFalse\u001B[39;00m,\n\u001B[0;32m---> 11\u001B[0m     tome_setting \u001B[38;5;241m=\u001B[39m \u001B[43mtest_pitome_setting\u001B[49m,\n\u001B[1;32m     12\u001B[0m )\n\u001B[1;32m     13\u001B[0m flops_per_image \u001B[38;5;241m=\u001B[39m get_flops(evaluate_args)\n\u001B[1;32m     14\u001B[0m \u001B[38;5;28mprint\u001B[39m(\u001B[38;5;124mf\u001B[39m\u001B[38;5;124m'\u001B[39m\u001B[38;5;124mflops per image: \u001B[39m\u001B[38;5;132;01m{\u001B[39;00mflops_per_image\u001B[38;5;132;01m}\u001B[39;00m\u001B[38;5;124m'\u001B[39m)\n",
      "\u001B[0;31mNameError\u001B[0m: name 'test_pitome_setting' is not defined"
     ]
    }
   ],
   "execution_count": 2
  },
  {
   "metadata": {},
   "cell_type": "markdown",
   "source": "",
   "id": "63a35c5b001667f9"
  },
  {
   "metadata": {},
   "cell_type": "markdown",
   "source": "",
   "id": "382fadbb8f83109b"
  }
 ],
 "metadata": {
  "kernelspec": {
   "display_name": "Python(tome_sam)",
   "language": "python",
   "name": "tome_sam"
  },
  "language_info": {
   "codemirror_mode": {
    "name": "ipython",
    "version": 2
   },
   "file_extension": ".py",
   "mimetype": "text/x-python",
   "name": "python",
   "nbconvert_exporter": "python",
   "pygments_lexer": "ipython2",
   "version": "2.7.6"
  }
 },
 "nbformat": 4,
 "nbformat_minor": 5
}
